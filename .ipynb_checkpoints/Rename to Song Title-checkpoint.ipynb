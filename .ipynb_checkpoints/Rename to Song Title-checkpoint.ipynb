{
 "cells": [
  {
   "cell_type": "code",
   "execution_count": null,
   "id": "8f8fe5a9",
   "metadata": {},
   "outputs": [],
   "source": [
    "import os\n",
    "import codecs\n",
    "import random\n",
    "\n",
    "files = [f for f in os.listdir('.') if os.path.isfile(f)]\n",
    "for f in files:\n",
    "    \n",
    "    if \".pro\" in f:\n",
    "\n",
    "        try:\n",
    "\n",
    "            file = open(f, 'r', encoding=\"utf-8\")\n",
    "            lines = file.readlines()\n",
    "\n",
    "            file = open(f, 'r', encoding=\"utf-8\")\n",
    "            data = file.read()\n",
    "\n",
    "            cleantitle = lines[0].replace(\"{title: \",\"\").replace(\"{title:\",\"\").replace(\"}\\n\",\"\").replace(\"/\",\"\").replace(\"?\",\"\")\n",
    "            \n",
    "            #print(cleantitle)\n",
    "            #print(f)\n",
    "            #print(\"---\")\n",
    "            \n",
    "            if os.path.exists(\"Renamed//\"+cleantitle+\".pro\"):\n",
    "                cleantitle = cleantitle + str(random.randint(1, 1000))\n",
    "                \n",
    "\n",
    "            file = codecs.open(\"Renamed//\"+cleantitle+\".pro\", \"w\", \"utf-8\")\n",
    "            file.write(data)\n",
    "            file.close()\n",
    "\n",
    "\n",
    "        except:\n",
    "            print(f)"
   ]
  }
 ],
 "metadata": {
  "kernelspec": {
   "display_name": "Python 3 (ipykernel)",
   "language": "python",
   "name": "python3"
  },
  "language_info": {
   "codemirror_mode": {
    "name": "ipython",
    "version": 3
   },
   "file_extension": ".py",
   "mimetype": "text/x-python",
   "name": "python",
   "nbconvert_exporter": "python",
   "pygments_lexer": "ipython3",
   "version": "3.8.4"
  }
 },
 "nbformat": 4,
 "nbformat_minor": 5
}
